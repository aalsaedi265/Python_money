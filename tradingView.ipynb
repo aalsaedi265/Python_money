{
 "cells": [
  {
   "cell_type": "code",
   "execution_count": 3,
   "id": "a3f495e4-c4ed-453a-a06f-f4d1b8d04922",
   "metadata": {},
   "outputs": [],
   "source": [
    "from tradingview_ta import TA_Handler, Interval, Exchange\n",
    "\n",
    "tesla = TA_Handler(\n",
    "    symbol=\"TSLA\",\n",
    "    screener=\"america\",\n",
    "    exchange=\"NASDAQ\",\n",
    "    interval=Interval.INTERVAL_1_DAY,\n",
    "    # proxies={'http': 'http://example.com:8080'} # Uncomment to enable proxy (replace the URL).\n",
    ")"
   ]
  },
  {
   "cell_type": "code",
   "execution_count": 4,
   "id": "3e6c764e-eac3-4aa0-9399-84db92fab4e7",
   "metadata": {},
   "outputs": [
    {
     "name": "stdout",
     "output_type": "stream",
     "text": [
      "{'RECOMMENDATION': 'BUY', 'BUY': 13, 'SELL': 4, 'NEUTRAL': 9}\n"
     ]
    }
   ],
   "source": [
    "print(tesla.get_analysis().summary)"
   ]
  },
  {
   "cell_type": "code",
   "execution_count": null,
   "id": "9aea46e2-597a-40ed-a6e7-cb4484d68191",
   "metadata": {},
   "outputs": [],
   "source": [
    "tesla.get_analysis().indicators"
   ]
  },
  {
   "cell_type": "code",
   "execution_count": null,
   "id": "0e5244ed-b2a0-4985-b597-29303d2b47a8",
   "metadata": {},
   "outputs": [],
   "source": []
  }
 ],
 "metadata": {
  "kernelspec": {
   "display_name": "tech_analysis",
   "language": "python",
   "name": "tech_analysis"
  },
  "language_info": {
   "codemirror_mode": {
    "name": "ipython",
    "version": 3
   },
   "file_extension": ".py",
   "mimetype": "text/x-python",
   "name": "python",
   "nbconvert_exporter": "python",
   "pygments_lexer": "ipython3",
   "version": "3.10.11"
  }
 },
 "nbformat": 4,
 "nbformat_minor": 5
}
